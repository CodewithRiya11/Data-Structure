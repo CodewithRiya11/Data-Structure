{
  "nbformat": 4,
  "nbformat_minor": 0,
  "metadata": {
    "colab": {
      "provenance": []
    },
    "kernelspec": {
      "name": "python3",
      "display_name": "Python 3"
    },
    "language_info": {
      "name": "python"
    }
  },
  "cells": [
    {
      "cell_type": "code",
      "execution_count": null,
      "metadata": {
        "colab": {
          "base_uri": "https://localhost:8080/"
        },
        "id": "xK7eq9UsPlKv",
        "outputId": "19b01d8f-7d39-4063-e167-b594203eb0a0"
      },
      "outputs": [
        {
          "output_type": "stream",
          "name": "stdout",
          "text": [
            "Riya\n"
          ]
        }
      ],
      "source": [
        "#1. Write a code to create a string with your name and print it\n",
        "name=\"Riya\"\n",
        "print(name)"
      ]
    },
    {
      "cell_type": "code",
      "source": [
        "#2. Write a code to find the length of the string \"Hello World\"\n",
        "string=\"Hello World\"\n",
        "len(string)"
      ],
      "metadata": {
        "colab": {
          "base_uri": "https://localhost:8080/"
        },
        "id": "PHTq7z60SziQ",
        "outputId": "d6a67243-0c90-4d5a-d332-264e6ebdb951"
      },
      "execution_count": null,
      "outputs": [
        {
          "output_type": "execute_result",
          "data": {
            "text/plain": [
              "11"
            ]
          },
          "metadata": {},
          "execution_count": 3
        }
      ]
    },
    {
      "cell_type": "code",
      "source": [
        "#3. Write a code to slice the first 3 characters from the string \"Python Programming\"\n",
        "string=\"Python Programming\"\n",
        "string[:3]"
      ],
      "metadata": {
        "colab": {
          "base_uri": "https://localhost:8080/",
          "height": 35
        },
        "id": "C9UoCnZsSs7H",
        "outputId": "cee882af-389d-4646-89f8-baafbd39dcb8"
      },
      "execution_count": null,
      "outputs": [
        {
          "output_type": "execute_result",
          "data": {
            "text/plain": [
              "'Pyt'"
            ],
            "application/vnd.google.colaboratory.intrinsic+json": {
              "type": "string"
            }
          },
          "metadata": {},
          "execution_count": 5
        }
      ]
    },
    {
      "cell_type": "code",
      "source": [
        "#4. Write a code to convert the string \"hello\" to uppercase\n",
        "a=\"hello\"\n",
        "a.upper()"
      ],
      "metadata": {
        "colab": {
          "base_uri": "https://localhost:8080/",
          "height": 35
        },
        "id": "Nlnj44KiTlEu",
        "outputId": "63996766-9a9f-4a1d-9d35-c8a8e5ad5b86"
      },
      "execution_count": null,
      "outputs": [
        {
          "output_type": "execute_result",
          "data": {
            "text/plain": [
              "'HELLO'"
            ],
            "application/vnd.google.colaboratory.intrinsic+json": {
              "type": "string"
            }
          },
          "metadata": {},
          "execution_count": 9
        }
      ]
    },
    {
      "cell_type": "code",
      "source": [
        "#5.Write a code to replace the word \"apple\" with \"orange\" in the string \"I like apple\"\n",
        "sentence=\"I like apple\"\n",
        "sentence.replace(\"apple\",\"orange\")"
      ],
      "metadata": {
        "colab": {
          "base_uri": "https://localhost:8080/",
          "height": 35
        },
        "id": "wSZO66b6T47z",
        "outputId": "0d93c750-1885-4244-b6e8-4c3ef0b6590b"
      },
      "execution_count": null,
      "outputs": [
        {
          "output_type": "execute_result",
          "data": {
            "text/plain": [
              "'I like orange'"
            ],
            "application/vnd.google.colaboratory.intrinsic+json": {
              "type": "string"
            }
          },
          "metadata": {},
          "execution_count": 10
        }
      ]
    },
    {
      "cell_type": "code",
      "source": [
        "#6. Write a code to create a list with numbers 1 to 5 and print it\n",
        "a=[1,2,3,4,5]\n",
        "print(a)\n"
      ],
      "metadata": {
        "colab": {
          "base_uri": "https://localhost:8080/"
        },
        "id": "LPL_qVTgUygU",
        "outputId": "c44676ff-9b34-4a6d-b7d9-811e1cd9b8ff"
      },
      "execution_count": null,
      "outputs": [
        {
          "output_type": "stream",
          "name": "stdout",
          "text": [
            "[1, 2, 3, 4, 5]\n"
          ]
        }
      ]
    },
    {
      "cell_type": "code",
      "source": [
        "#7. Write a code to append the number 10 to the list [1, 2, 3, 4]\n",
        "a=[1,2,3,4]\n",
        "a.append(10)\n",
        "print(a)"
      ],
      "metadata": {
        "colab": {
          "base_uri": "https://localhost:8080/"
        },
        "id": "W8_C4R8sVAZd",
        "outputId": "9daa95c7-9805-4e10-adff-192ecf0859bf"
      },
      "execution_count": null,
      "outputs": [
        {
          "output_type": "stream",
          "name": "stdout",
          "text": [
            "[1, 2, 3, 4, 10]\n"
          ]
        }
      ]
    },
    {
      "cell_type": "code",
      "source": [
        "#8 Write a code to remove the number 3 from the list [1, 2, 3, 4, 5]\n",
        "a=[1,2,3,4,5]\n",
        "a.remove(3)\n",
        "print(a)"
      ],
      "metadata": {
        "colab": {
          "base_uri": "https://localhost:8080/"
        },
        "id": "jqQhmkW5VWnx",
        "outputId": "d7ac98e7-140c-4876-d5f9-1933fd8b1923"
      },
      "execution_count": null,
      "outputs": [
        {
          "output_type": "stream",
          "name": "stdout",
          "text": [
            "[1, 2, 4, 5]\n"
          ]
        }
      ]
    },
    {
      "cell_type": "code",
      "source": [
        "#9 Write a code to access the second element in the list ['a', 'b', 'c', 'd']\n",
        "li=['a','b','c','d']\n",
        "li[1]"
      ],
      "metadata": {
        "colab": {
          "base_uri": "https://localhost:8080/",
          "height": 35
        },
        "id": "2e0R-h-mVmHc",
        "outputId": "0e907a33-6acd-41d8-9396-8897fb1fdddc"
      },
      "execution_count": null,
      "outputs": [
        {
          "output_type": "execute_result",
          "data": {
            "text/plain": [
              "'b'"
            ],
            "application/vnd.google.colaboratory.intrinsic+json": {
              "type": "string"
            }
          },
          "metadata": {},
          "execution_count": 16
        }
      ]
    },
    {
      "cell_type": "code",
      "source": [
        "#10 Write a code to reverse the list [10, 20, 30, 40, 50].\n",
        "li=[10,20,30,40,50]\n",
        "li.reverse()\n",
        "print(li)"
      ],
      "metadata": {
        "colab": {
          "base_uri": "https://localhost:8080/"
        },
        "id": "T8sPyM4oV3ye",
        "outputId": "41006cca-ebcc-4dbe-8c3a-7e6846492131"
      },
      "execution_count": null,
      "outputs": [
        {
          "output_type": "stream",
          "name": "stdout",
          "text": [
            "[50, 40, 30, 20, 10]\n"
          ]
        }
      ]
    },
    {
      "cell_type": "code",
      "source": [
        "#11 Write a code to create a tuple with the elements 100, 200, 300 and print it\n",
        "tup=(100,200,300)\n",
        "print(tup)"
      ],
      "metadata": {
        "colab": {
          "base_uri": "https://localhost:8080/"
        },
        "id": "J2SMBcVEWCzB",
        "outputId": "c857998b-0d75-42ea-e3af-bb6ad748dc31"
      },
      "execution_count": null,
      "outputs": [
        {
          "output_type": "stream",
          "name": "stdout",
          "text": [
            "(100, 200, 300)\n"
          ]
        }
      ]
    },
    {
      "cell_type": "code",
      "source": [
        "#12  Write a code to access the second-to-last element of the tuple ('red', 'green', 'blue', 'yellow').\n",
        "tup=('red', 'green', 'blue', 'yellow')\n",
        "tup[1:]"
      ],
      "metadata": {
        "colab": {
          "base_uri": "https://localhost:8080/"
        },
        "id": "1SSpmyBdWQZ6",
        "outputId": "79cf598a-b621-45d3-a845-6663cea83aa9"
      },
      "execution_count": null,
      "outputs": [
        {
          "output_type": "execute_result",
          "data": {
            "text/plain": [
              "('green', 'blue', 'yellow')"
            ]
          },
          "metadata": {},
          "execution_count": 20
        }
      ]
    },
    {
      "cell_type": "code",
      "source": [
        "#13  Write a code to find the minimum number in the tuple (10, 20, 5, 15).\n",
        "tup=(10,20,5,15)\n",
        "minimum_value=min(tup)\n",
        "print(minimum_value)"
      ],
      "metadata": {
        "colab": {
          "base_uri": "https://localhost:8080/"
        },
        "id": "cCtEBai-WfW6",
        "outputId": "c21d3a81-6ce5-4fe6-97fa-5f9a4379a8d9"
      },
      "execution_count": null,
      "outputs": [
        {
          "output_type": "stream",
          "name": "stdout",
          "text": [
            "5\n"
          ]
        }
      ]
    },
    {
      "cell_type": "code",
      "source": [
        "#14 Write a code to find the index of the element \"cat\" in the tuple ('dog', 'cat', 'rabbit')\n",
        "tup=('dog','cat','rabbit')\n",
        "tup.index('cat')"
      ],
      "metadata": {
        "colab": {
          "base_uri": "https://localhost:8080/"
        },
        "id": "iaLFxoCSWoU2",
        "outputId": "fa41bd80-6d2b-4436-9bc5-e5cd2b6d2d8d"
      },
      "execution_count": null,
      "outputs": [
        {
          "output_type": "execute_result",
          "data": {
            "text/plain": [
              "1"
            ]
          },
          "metadata": {},
          "execution_count": 23
        }
      ]
    },
    {
      "cell_type": "code",
      "source": [
        "#15  Write a code to create a tuple containing three different fruits and check if \"kiwi\" is in it.\n",
        "fruits=('apple','mango','banana','kiwi')\n",
        "if'kiwi' in fruits:\n",
        "  print(\"Yes\")\n",
        "else:\n",
        "  print(\"No\")"
      ],
      "metadata": {
        "colab": {
          "base_uri": "https://localhost:8080/"
        },
        "id": "1AX2R5BMXbLf",
        "outputId": "653b7c01-3071-4ae2-9712-6ba08310deef"
      },
      "execution_count": null,
      "outputs": [
        {
          "output_type": "stream",
          "name": "stdout",
          "text": [
            "Yes\n"
          ]
        }
      ]
    },
    {
      "cell_type": "code",
      "source": [
        "#16  Write a code to create a set with the elements 'a', 'b', 'c' and print it.\n",
        "letters={'a','b','c'}\n",
        "print(letters)\n",
        "\n"
      ],
      "metadata": {
        "colab": {
          "base_uri": "https://localhost:8080/"
        },
        "id": "fXaF5E3NX9u6",
        "outputId": "b6f6a0a9-8916-4aed-8223-947165120379"
      },
      "execution_count": null,
      "outputs": [
        {
          "output_type": "stream",
          "name": "stdout",
          "text": [
            "{'a', 'b', 'c'}\n"
          ]
        }
      ]
    },
    {
      "cell_type": "code",
      "source": [
        "#17 Write a code to clear all elements from the set {1, 2, 3, 4, 5}.\n",
        "my_set={1,2,3,4,5}\n",
        "my_set.clear()\n",
        "print(my_set)"
      ],
      "metadata": {
        "colab": {
          "base_uri": "https://localhost:8080/"
        },
        "id": "V1zLQGhjYkYR",
        "outputId": "85c83973-252b-4be7-bd60-ac2b1519a991"
      },
      "execution_count": null,
      "outputs": [
        {
          "output_type": "stream",
          "name": "stdout",
          "text": [
            "set()\n"
          ]
        }
      ]
    },
    {
      "cell_type": "code",
      "source": [
        "#18  Write a code to remove the element 4 from the set {1, 2, 3, 4}\n",
        "my_set={1,2,3,4}\n",
        "my_set.remove(4)\n",
        "print(my_set)"
      ],
      "metadata": {
        "colab": {
          "base_uri": "https://localhost:8080/"
        },
        "id": "opM1lYyCY3YJ",
        "outputId": "3deb97a0-5342-4861-eb6d-61bac83ca9d2"
      },
      "execution_count": null,
      "outputs": [
        {
          "output_type": "stream",
          "name": "stdout",
          "text": [
            "{1, 2, 3}\n"
          ]
        }
      ]
    },
    {
      "cell_type": "code",
      "source": [
        "#19 Write a code to find the union of two sets {1, 2, 3} and {3, 4, 5}\n",
        "my_set1={1,2,3}\n",
        "my_set2={3,4,5}\n",
        "print(my_set1 | my_set2)"
      ],
      "metadata": {
        "colab": {
          "base_uri": "https://localhost:8080/"
        },
        "id": "UCLyDjtIZSp_",
        "outputId": "0fe7fc8f-4f0b-4ae9-a68b-2ae131285669"
      },
      "execution_count": null,
      "outputs": [
        {
          "output_type": "stream",
          "name": "stdout",
          "text": [
            "{1, 2, 3, 4, 5}\n"
          ]
        }
      ]
    },
    {
      "cell_type": "code",
      "source": [
        "#20  Write a code to find the intersection of two sets {1, 2, 3} and {2, 3, 4}\n",
        "set1={1,2,3}\n",
        "set2={2,3,4}\n",
        "print(set1 & set2)"
      ],
      "metadata": {
        "colab": {
          "base_uri": "https://localhost:8080/"
        },
        "id": "Xr2IbYDUZlF3",
        "outputId": "9210c638-d031-47c6-cf1b-7255855263b3"
      },
      "execution_count": null,
      "outputs": [
        {
          "output_type": "stream",
          "name": "stdout",
          "text": [
            "{2, 3}\n"
          ]
        }
      ]
    },
    {
      "cell_type": "code",
      "source": [
        "#21  Write a code to create a dictionary with the keys \"name\", \"age\", and \"city\", and print it\n",
        "my_dict={\"name\":\"Riya\",\"age\":21,\"city\":\"Noida\"}\n",
        "print(my_dict)"
      ],
      "metadata": {
        "colab": {
          "base_uri": "https://localhost:8080/"
        },
        "id": "3yyvYI4rZwOt",
        "outputId": "70a1bbc2-845f-43e6-921e-7107406acc76"
      },
      "execution_count": null,
      "outputs": [
        {
          "output_type": "stream",
          "name": "stdout",
          "text": [
            "{'name': 'Riya', 'age': 21, 'city': 'Noida'}\n"
          ]
        }
      ]
    },
    {
      "cell_type": "code",
      "source": [
        "#22 Write a code to add a new key-value pair \"country\": \"USA\" to the dictionary {'name': 'John', 'age': 25}.\n",
        "my_dict={'name': 'John', 'age': 25}\n",
        "my_dict[\"country\"]=\"USA\"\n",
        "print(my_dict)"
      ],
      "metadata": {
        "colab": {
          "base_uri": "https://localhost:8080/"
        },
        "id": "o0Jin2W2aCWc",
        "outputId": "9f0aa033-8154-49ed-994f-8b7080bd9099"
      },
      "execution_count": null,
      "outputs": [
        {
          "output_type": "stream",
          "name": "stdout",
          "text": [
            "{'name': 'John', 'age': 25, 'country': 'USA'}\n"
          ]
        }
      ]
    },
    {
      "cell_type": "code",
      "source": [
        "#23  Write a code to access the value associated with the key \"name\" in the dictionary {'name': 'Alice', 'age': 30}.\n",
        "my_dict={'name': 'Alice', 'age': 30}\n",
        "my_dict[\"name\"]"
      ],
      "metadata": {
        "colab": {
          "base_uri": "https://localhost:8080/",
          "height": 35
        },
        "id": "-x8Id9oWaZSy",
        "outputId": "b96dbdde-c0e5-4d83-9793-6b90b8dfe568"
      },
      "execution_count": null,
      "outputs": [
        {
          "output_type": "execute_result",
          "data": {
            "text/plain": [
              "'Alice'"
            ],
            "application/vnd.google.colaboratory.intrinsic+json": {
              "type": "string"
            }
          },
          "metadata": {},
          "execution_count": 43
        }
      ]
    },
    {
      "cell_type": "code",
      "source": [
        "#24  Write a code to remove the key \"age\" from the dictionary {'name': 'Bob', 'age': 22, 'city': 'New York'}.\n",
        "dict={'name': 'Bob', 'age': 22, 'city': 'New York'}\n",
        "del dict[\"age\"]\n",
        "print(dict)"
      ],
      "metadata": {
        "colab": {
          "base_uri": "https://localhost:8080/"
        },
        "id": "D3Pfaf1QaltO",
        "outputId": "46445528-3ab0-408d-988f-5686d5efb7f3"
      },
      "execution_count": null,
      "outputs": [
        {
          "output_type": "stream",
          "name": "stdout",
          "text": [
            "{'name': 'Bob', 'city': 'New York'}\n"
          ]
        }
      ]
    },
    {
      "cell_type": "code",
      "source": [
        "#25  Write a code to check if the key \"city\" exists in the dictionary {'name': 'Alice', 'city': 'Paris'}\n",
        "my_dict={'name': 'Alice', 'city': 'Paris'}\n",
        "if \"city\" in my_dict:\n",
        "  print(\"YES\")\n",
        "else:\n",
        "  print(\"NO\")"
      ],
      "metadata": {
        "colab": {
          "base_uri": "https://localhost:8080/"
        },
        "id": "nfxZI1sSbMja",
        "outputId": "14417a26-5115-429e-b37d-43b6c067639e"
      },
      "execution_count": null,
      "outputs": [
        {
          "output_type": "stream",
          "name": "stdout",
          "text": [
            "YES\n"
          ]
        }
      ]
    },
    {
      "cell_type": "code",
      "source": [
        "#26 Write a code to create a list, a tuple, and a dictionary, and print them all.\n",
        "my_list=[\"Riya\",\"Raman\",\"Somya\"]\n",
        "my_tup=(\"Riya\",\"Raman\",\"Somya\")\n",
        "my_dict={\"grade\":\"A+\",\"city\":\"delhi\"}\n",
        "print(my_list,my_dict,my_tup)\n"
      ],
      "metadata": {
        "colab": {
          "base_uri": "https://localhost:8080/"
        },
        "id": "iNodi-bPb00i",
        "outputId": "60ca707a-b29b-4511-8b4a-45ed07bb1e2b"
      },
      "execution_count": null,
      "outputs": [
        {
          "output_type": "stream",
          "name": "stdout",
          "text": [
            "['Riya', 'Raman', 'Somya'] {'grade': 'A+', 'city': 'delhi'} ('Riya', 'Raman', 'Somya')\n"
          ]
        }
      ]
    },
    {
      "cell_type": "code",
      "source": [
        "#27  Write a code to create a list of 5 random numbers between 1 and 100, sort it in ascending order, and print the\n",
        "#result.(replaced)\n",
        "my_list=[23,56,35,89,42]\n",
        "my_list.sort()\n",
        "print(my_list)"
      ],
      "metadata": {
        "colab": {
          "base_uri": "https://localhost:8080/"
        },
        "id": "CaQhkC5lcnKv",
        "outputId": "ff4fd69a-2558-4887-e2e2-30d94d0cc12a"
      },
      "execution_count": null,
      "outputs": [
        {
          "output_type": "stream",
          "name": "stdout",
          "text": [
            "[23, 35, 42, 56, 89]\n"
          ]
        }
      ]
    },
    {
      "cell_type": "code",
      "source": [
        "#28  Write a code to create a list with strings and print the element at the third index\n",
        "my_list=[\"Riya\",\"Somya\",\"Raman\",\"Muskan\",\"shubh\"]\n",
        "my_list[3]"
      ],
      "metadata": {
        "colab": {
          "base_uri": "https://localhost:8080/",
          "height": 35
        },
        "id": "JuNld8YSdXXZ",
        "outputId": "36bc1c50-7803-420d-adfd-38d2fbd6edff"
      },
      "execution_count": null,
      "outputs": [
        {
          "output_type": "execute_result",
          "data": {
            "text/plain": [
              "'Muskan'"
            ],
            "application/vnd.google.colaboratory.intrinsic+json": {
              "type": "string"
            }
          },
          "metadata": {},
          "execution_count": 59
        }
      ]
    },
    {
      "cell_type": "code",
      "source": [
        "#29  Write a code to combine two dictionaries into one and print the result\n",
        "my_dict1={\"name\":\"Riya\", \"age\":21}\n",
        "my_dict2={\"occupation\":\"Senior Data Analyst\",\"Company\":\"Google\"}\n",
        "my_dict1|my_dict2"
      ],
      "metadata": {
        "colab": {
          "base_uri": "https://localhost:8080/"
        },
        "id": "-7DdHZTbeCJv",
        "outputId": "4a427a42-8732-40f7-e014-d25d368ab0ce"
      },
      "execution_count": null,
      "outputs": [
        {
          "output_type": "execute_result",
          "data": {
            "text/plain": [
              "{'name': 'Riya',\n",
              " 'age': 21,\n",
              " 'occupation': 'Senior Data Analyst',\n",
              " 'Company': 'Google'}"
            ]
          },
          "metadata": {},
          "execution_count": 62
        }
      ]
    },
    {
      "cell_type": "code",
      "source": [
        "#30  Write a code to convert a list of strings into a set.\n",
        "my_list=[\"Amazon\",\"Google\",\"Microsoft\"]\n",
        "set(my_list)\n"
      ],
      "metadata": {
        "colab": {
          "base_uri": "https://localhost:8080/"
        },
        "id": "GmjA3vm7eika",
        "outputId": "e26d4a9d-3dfd-4cd1-a701-7890cab8771c"
      },
      "execution_count": null,
      "outputs": [
        {
          "output_type": "execute_result",
          "data": {
            "text/plain": [
              "{'Amazon', 'Google', 'Microsoft'}"
            ]
          },
          "metadata": {},
          "execution_count": 63
        }
      ]
    },
    {
      "cell_type": "code",
      "source": [],
      "metadata": {
        "id": "7400hPwZfAxu"
      },
      "execution_count": null,
      "outputs": []
    },
    {
      "cell_type": "markdown",
      "source": [
        "1. What are data structures, and why are they important?\n",
        "Data structures are ways to organize and store data in a computer so that it can be accessed and modified efficiently. They are important because they help in efficient data management, problem-solving, and performance optimization in programming.\n",
        "\n",
        "2. Explain the difference between mutable and immutable data types with examples.\n",
        "Mutable: Can be changed after creation.\n",
        "\n",
        "Example: list, dict, set\n",
        "\n",
        "my_list = [1, 2, 3]; my_list[0] = 10 → list is changed.\n",
        "\n",
        "Immutable: Cannot be changed after creation.\n",
        "\n",
        "Example: int, float, tuple, str\n",
        "\n",
        "my_str = \"hello\"; my_str[0] = \"H\" → error.\n",
        "\n",
        "3.  What are the main differences between lists and tuples in Python?\n",
        "Feature\tList\tTuple\n",
        "Mutable\tYes\tNo\n",
        "Syntax\t[1, 2, 3]\t(1, 2, 3)\n",
        "Use case\tWhen data needs to change\tWhen data should stay fixed\n",
        "\n",
        "4.  Describe how dictionaries store data.\n",
        "Dictionaries store data in key-value pairs. Each value is accessed using a unique key. Under the hood, Python uses hash tables to manage keys for fast lookup.\n",
        "\n",
        "5. Why might you use a set instead of a list in Python?\n",
        "Sets automatically remove duplicates.\n",
        "\n",
        "Sets offer faster lookup (average O(1) time).\n",
        "\n",
        "Use a set when you need unique elements only.\n",
        "\n",
        "6. What is a string in Python, and how is it different from a list?\n",
        "A string is a sequence of characters, while a list is a sequence of elements that can be of any type.\n",
        "\n",
        "Strings are immutable, lists are mutable.\n",
        "\n",
        "Example: \"hello\" vs. [\"h\", \"e\", \"l\", \"l\", \"o\"]\n",
        "\n",
        "7. How do tuples ensure data integrity in Python?\n",
        "Tuples are immutable, meaning once created, they can't be changed. This ensures the data inside a tuple remains constant and protected from modification.\n",
        "\n",
        "8.  What is a hash table, and how does it relate to dictionaries in Python?\n",
        "A hash table is a data structure that maps keys to values using a hash function. Python's dict is implemented using a hash table to allow fast key-based access.\n",
        "\n",
        "9. Can lists contain different data types in Python?\n",
        "Yes! Python lists are heterogeneous, so they can hold elements of different data types:\n",
        "Example: [1, \"hello\", 3.14, True]\n",
        "\n",
        "10. Explain why strings are immutable in Python.\n",
        "Strings are immutable to:\n",
        "\n",
        "Improve performance (especially in memory management).\n",
        "\n",
        "Ensure thread safety in multi-threaded applications.\n",
        "\n",
        "Allow hashing for use as keys in dictionaries.\n",
        "\n",
        "11. What advantages do dictionaries offer over lists for certain tasks?\n",
        "Fast lookups by key (O(1) time).\n",
        "\n",
        "More semantic meaning (e.g., 'name': 'Riya').\n",
        "\n",
        "Avoids searching through indexes like in lists.\n",
        "\n",
        "12. Describe a scenario where using a tuple would be preferable over a list.\n",
        "Use a tuple to represent coordinates (e.g., (x, y)) or fixed configuration settings that should not change during program execution.\n",
        "\n",
        "13. How do sets handle duplicate values in Python?\n",
        "Sets automatically remove duplicates.\n",
        "Example: set([1, 2, 2, 3]) → {1, 2, 3}\n",
        "\n",
        "14. How does the “in” keyword work differently for lists and dictionaries?\n",
        "For lists: checks if a value is in the list.\n",
        "\n",
        "For dictionaries: checks if a key exists, not the value.\n",
        "3 in [1, 2, 3]           # True\n",
        "'age' in {'age': 25}     # True\n",
        "25 in {'age': 25}        # False\n",
        "\n",
        "15.  Can you modify the elements of a tuple? Explain why or why not.\n",
        "No, tuples are immutable. You can't change, add, or remove elements after creation. This is intentional for data protection and consistency.\n",
        "\n",
        "16. What is a nested dictionary, and give an example of its use case.\n",
        "A nested dictionary is a dictionary where values are also dictionaries.\n",
        "Use case: Representing structured data like a student's record.\n",
        "student = {\n",
        "    \"name\": \"Riya\",\n",
        "    \"grades\": {\n",
        "        \"math\": 95,\n",
        "        \"science\": 90\n",
        "    }\n",
        "}\n",
        "\n",
        "\n",
        "17. Describe the time complexity of accessing elements in a dictionary.\n",
        "Average case: O(1)\n",
        "\n",
        "Worst case (rare): O(n), due to hash collisions.\n",
        "\n",
        "18.  In what situations are lists preferred over dictionaries?\n",
        "When order matters (before Python 3.7, dicts were unordered).\n",
        "\n",
        "When you need to access items by position/index.\n",
        "\n",
        "When working with sequences of items without key-value pairs.\n",
        "\n",
        "19.   Why are dictionaries considered unordered, and how does that affect data retrieval?\n",
        "Before Python 3.7, dictionaries were unordered — meaning the insertion order of keys was not preserved. Now in modern Python, they preserve order, but it's still best not to rely on that behavior unless necessary. Retrieval is based on keys, not position.\n",
        "\n",
        "20. Explain the difference between a list and a dictionary in terms of data retrieval.\n",
        "List: Retrieve by index → my_list[0]\n",
        "\n",
        "Dict: Retrieve by key → my_dict['name']\n",
        "Dictionaries are faster for lookups by meaningful labels.\n",
        "\n",
        "\n",
        "\n",
        "\n",
        "\n"
      ],
      "metadata": {
        "id": "wHv1rC6kl4cO"
      }
    }
  ]
}